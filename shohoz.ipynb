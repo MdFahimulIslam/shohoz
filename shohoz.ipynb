{
 "cells": [
  {
   "cell_type": "code",
   "execution_count": 1,
   "metadata": {},
   "outputs": [],
   "source": [
    "from selenium import webdriver # pip install selenium\n",
    "from selenium.webdriver.common.by import By\n",
    "from selenium.webdriver.common.keys import Keys\n",
    "from selenium.webdriver.support.ui import Select\n",
    "from selenium.webdriver.support.ui import WebDriverWait\n",
    "from selenium.webdriver.support import expected_conditions as EC\n",
    "import time as tm\n",
    "from datetime import date "
   ]
  },
  {
   "cell_type": "code",
   "execution_count": 2,
   "metadata": {},
   "outputs": [],
   "source": [
    "# ! pip install python-dotenv\n",
    "import os\n",
    "from dotenv import load_dotenv, find_dotenv\n",
    "\n",
    "load_dotenv(find_dotenv())\n",
    "\n",
    "ACCOUNT_SID = os.environ.get(\"ACCOUNT_SID\")\n",
    "AUTH_TOKEN = os.environ.get(\"AUTH_TOKEN\")\n",
    "SENDER_WHATSAPP_NUMBER = os.environ.get(\"SENDER_WHATSAPP_NUMBER\")\n",
    "RECIPIENT_WHATSAPP_NUMBER = os.environ.get(\"RECIPIENT_WHATSAPP_NUMBER\")"
   ]
  },
  {
   "cell_type": "code",
   "execution_count": 3,
   "metadata": {},
   "outputs": [],
   "source": [
    "# selenium 4\n",
    "from selenium.webdriver.chrome.service import Service as ChromeService\n",
    "from webdriver_manager.chrome import ChromeDriverManager # pip install webdriver-manager\n",
    "\n",
    "driver = webdriver.Chrome(service=ChromeService(ChromeDriverManager().install()))"
   ]
  },
  {
   "cell_type": "code",
   "execution_count": 4,
   "metadata": {},
   "outputs": [
    {
     "name": "stdout",
     "output_type": "stream",
     "text": [
      "SR Clicked\n",
      "AC clicked\n",
      "2023-06-23 16:57:00\t Tickets found [0, 0, 0]\n"
     ]
    }
   ],
   "source": [
    "import time\n",
    "import random\n",
    "\n",
    "def search_ticket(search_string):\n",
    "    driver.get(search_string)\n",
    "    wait = WebDriverWait(driver, 10)\n",
    "\n",
    "    # xpath_string = \"\"\"//*[@id=\"16operatorfilter\"]/span[1]\"\"\" \n",
    "    xpath_string = r\"/html/body/div[7]/div[2]/div[5]/div/div[1]/div[2]/div/label[1]/span[1]\" # Full xpath. Uncomment if doesn't work\n",
    "    element = wait.until(EC.presence_of_element_located((By.XPATH, xpath_string)))\n",
    "    element.click()\n",
    "    # print(\"SR Clicked\")\n",
    "\n",
    "    # xpath_string = \"\"\"//*[@id=\"1typesfilter\"]/span[1]\"\"\"\n",
    "    xpath_string = \"\"\"/html/body/div[7]/div[2]/div[5]/div/div[1]/div[3]/div/label[1]/span[1]\"\"\" # Full xpath. Uncomment if doesn't work\n",
    "    element = wait.until(EC.presence_of_element_located((By.XPATH, xpath_string)))\n",
    "    element.click()\n",
    "    # print(\"AC clicked\")\n",
    "\n",
    "    elements = driver.find_elements(By.CSS_SELECTOR, \"[data-title='Seats Available']\")\n",
    "    # Uncomment below if above generates too many values\n",
    "    # elements = driver.find_elements(By.CSS_SELECTOR,\"td.tbl_col5[data-title='Seats Available']\")\n",
    "\n",
    "    # Iterate through the elements and print their text content\n",
    "    num_of_tickets = []\n",
    "    for element in elements:\n",
    "        try:\n",
    "            value = int(element.text.replace(\"\\n\", \"\").strip())\n",
    "            num_of_tickets.append(value)\n",
    "        except ValueError:\n",
    "            # Value is NOT integer\n",
    "            continue\n",
    "    \n",
    "    return num_of_tickets\n",
    "\n",
    "from twilio.rest import Client # pip install twilio\n",
    "def send_whatsapp_message(message):\n",
    "    \"\"\"Function to send a WhatsApp message. NOTE: You may need to reinitialize\n",
    "    twillio sandbox if sending message doesn't work. More info:\n",
    "    https://console.twilio.com/us1/develop/sms/try-it-out/whatsapp-learn?frameUrl=%2Fconsole%2Fsms%2Fwhatsapp%2Flearn%3Fx-target-region%3Dus1\"\"\"\n",
    "    client = Client(ACCOUNT_SID, AUTH_TOKEN)\n",
    "    message = client.messages.create(\n",
    "        body=message,\n",
    "        from_=SENDER_WHATSAPP_NUMBER,\n",
    "        to=RECIPIENT_WHATSAPP_NUMBER\n",
    "    )\n",
    "    print(f\"WhatsApp message sent. SID: {message.sid}\")\n",
    "\n",
    "SEARCH_STRING = r\"https://www.shohoz.com/booking/bus/search?fromcity=Bogura&tocity=Dhaka&doj=02-Jul-2023&dor=\"\n",
    "while True:\n",
    "    current_time = time.strftime('%Y-%m-%d %H:%M:%S')  # Get the current time\n",
    "    try:\n",
    "        num_of_tickets = search_ticket(SEARCH_STRING)\n",
    "    except Exception as e:\n",
    "        print(e)\n",
    "        continue\n",
    "    print(f\"{current_time}\\t Tickets found {num_of_tickets}\")\n",
    "    if any(num_of_tickets):\n",
    "        break\n",
    "    interval = random.randint(2, 5) * 60\n",
    "    time.sleep(interval)\n",
    "\n",
    "import winsound\n",
    "\n",
    "def generate_alarm():\n",
    "    # Define the frequency and duration of the alarm sound\n",
    "    frequency = 2500  # In hertz (Hz)\n",
    "    duration = 10000  # In milliseconds (ms)\n",
    "    on_time = 1000\n",
    "    for _ in range(duration//on_time):\n",
    "        winsound.Beep(frequency, on_time)\n",
    "        time.sleep(1)\n",
    "\n",
    "while True:\n",
    "    msg = f\"Wake up!!!\\nTicket found: {num_of_tickets}.\\nMore info: {SEARCH_STRING}\"\n",
    "    send_whatsapp_message(msg)\n",
    "    generate_alarm()\n"
   ]
  }
 ],
 "metadata": {
  "kernelspec": {
   "display_name": "base",
   "language": "python",
   "name": "python3"
  },
  "language_info": {
   "codemirror_mode": {
    "name": "ipython",
    "version": 3
   },
   "file_extension": ".py",
   "mimetype": "text/x-python",
   "name": "python",
   "nbconvert_exporter": "python",
   "pygments_lexer": "ipython3",
   "version": "3.9.12"
  },
  "orig_nbformat": 4
 },
 "nbformat": 4,
 "nbformat_minor": 2
}
