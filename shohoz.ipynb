{
 "cells": [
  {
   "cell_type": "code",
   "execution_count": 28,
   "metadata": {},
   "outputs": [],
   "source": [
    "from selenium import webdriver # pip install selenium\n",
    "from selenium.webdriver.common.by import By\n",
    "from selenium.webdriver.common.keys import Keys\n",
    "from selenium.webdriver.support.ui import Select\n",
    "from selenium.webdriver.support.ui import WebDriverWait\n",
    "from selenium.webdriver.support import expected_conditions as EC\n",
    "import time as tm\n",
    "from datetime import date "
   ]
  },
  {
   "cell_type": "code",
   "execution_count": 29,
   "metadata": {},
   "outputs": [
    {
     "name": "stderr",
     "output_type": "stream",
     "text": [
      "[WDM] - Downloading: 100%|██████████| 6.30M/6.30M [00:10<00:00, 604kB/s]\n"
     ]
    }
   ],
   "source": [
    "# selenium 4\n",
    "from selenium.webdriver.chrome.service import Service as ChromeService\n",
    "from webdriver_manager.chrome import ChromeDriverManager # pip install webdriver-manager\n",
    "\n",
    "driver = webdriver.Chrome(service=ChromeService(ChromeDriverManager().install()))"
   ]
  },
  {
   "cell_type": "code",
   "execution_count": 30,
   "metadata": {},
   "outputs": [],
   "source": [
    "search_string = r\"https://www.shohoz.com/booking/bus/search?fromcity=Bogura&tocity=Dhaka&doj=02-Jul-2023&dor=\"\n",
    "driver.get(search_string)\n",
    "wait = WebDriverWait(driver, 10)"
   ]
  },
  {
   "cell_type": "code",
   "execution_count": 31,
   "metadata": {},
   "outputs": [
    {
     "name": "stdout",
     "output_type": "stream",
     "text": [
      "SR Clicked\n"
     ]
    }
   ],
   "source": [
    "xpath_string = \"\"\"//*[@id=\"16operatorfilter\"]/span[1]\"\"\" \n",
    "# xpath_string = r\"/html/body/div[7]/div[2]/div[5]/div/div[1]/div[2]/div/label[1]/span[1]\" # Full xpath. Uncomment if doesn't work\n",
    "element = wait.until(EC.presence_of_element_located((By.XPATH, xpath_string)))\n",
    "element.click()\n",
    "print(\"SR Clicked\")"
   ]
  },
  {
   "cell_type": "code",
   "execution_count": 32,
   "metadata": {},
   "outputs": [
    {
     "name": "stdout",
     "output_type": "stream",
     "text": [
      "AC clicked\n"
     ]
    }
   ],
   "source": [
    "xpath_string = \"\"\"//*[@id=\"1typesfilter\"]/span[1]\"\"\"\n",
    "# xpath_string = \"\"\"/html/body/div[7]/div[2]/div[5]/div/div[1]/div[3]/div/label[1]/span[1]\"\"\" # Full xpath. Uncomment if doesn't work\n",
    "element = wait.until(EC.presence_of_element_located((By.XPATH, xpath_string)))\n",
    "element.click()\n",
    "print(\"AC clicked\")"
   ]
  },
  {
   "cell_type": "code",
   "execution_count": 83,
   "metadata": {},
   "outputs": [
    {
     "name": "stdout",
     "output_type": "stream",
     "text": [
      "Following is the ticket numbers per row:\n",
      "[0, 0, 0]\n"
     ]
    }
   ],
   "source": [
    "elements = driver.find_elements(By.CSS_SELECTOR, \"[data-title='Seats Available']\")\n",
    "# Uncomment below if above generates too many values\n",
    "# elements = driver.find_elements(By.CSS_SELECTOR,\"td.tbl_col5[data-title='Seats Available']\")\n",
    "\n",
    "# Iterate through the elements and print their text content\n",
    "num_of_tickets = []\n",
    "for element in elements:\n",
    "    try:\n",
    "        value = int(element.text.replace(\"\\n\", \"\").strip())\n",
    "        num_of_tickets.append(value)\n",
    "    except ValueError:\n",
    "        # Value is NOT integer\n",
    "        continue\n",
    "\n",
    "print(\"Following is the ticket numbers per row:\")\n",
    "print(f\"{num_of_tickets}\")"
   ]
  },
  {
   "cell_type": "code",
   "execution_count": 84,
   "metadata": {},
   "outputs": [
    {
     "data": {
      "text/plain": [
       "False"
      ]
     },
     "execution_count": 84,
     "metadata": {},
     "output_type": "execute_result"
    }
   ],
   "source": [
    "import winsound\n",
    "\n",
    "def generate_alarm():\n",
    "    # Define the frequency and duration of the alarm sound\n",
    "    frequency = 1000  # In hertz (Hz)\n",
    "    duration = 2000  # In milliseconds (ms)\n",
    "    \n",
    "    # Generate the alarm sound\n",
    "    winsound.Beep(frequency, duration)\n",
    "\n",
    "if any(num_of_tickets):\n",
    "    # send an alarm\n",
    "    generate_alarm()"
   ]
  },
  {
   "cell_type": "code",
   "execution_count": 100,
   "metadata": {},
   "outputs": [],
   "source": [
    "# ! pip install python-dotenv\n",
    "import os\n",
    "from dotenv import load_dotenv, find_dotenv\n",
    "\n",
    "load_dotenv(find_dotenv())\n",
    "\n",
    "ACCOUNT_SID = os.environ.get(\"ACCOUNT_SID\")\n",
    "AUTH_TOKEN = os.environ.get(\"AUTH_TOKEN\")\n",
    "SENDER_WHATSAPP_NUMBER = os.environ.get(\"SENDER_WHATSAPP_NUMBER\")\n",
    "RECIPIENT_WHATSAPP_NUMBER = os.environ.get(\"RECIPIENT_WHATSAPP_NUMBER\")"
   ]
  },
  {
   "cell_type": "code",
   "execution_count": 101,
   "metadata": {},
   "outputs": [
    {
     "name": "stdout",
     "output_type": "stream",
     "text": [
      "WhatsApp message sent. SID: SM23c46518c244dd8acebe60b6bfa4ca38\n"
     ]
    }
   ],
   "source": [
    "from twilio.rest import Client # pip install twilio\n",
    "\n",
    "\n",
    "# Function to send a WhatsApp message\n",
    "def send_whatsapp_message(message):\n",
    "    \n",
    "    client = Client(ACCOUNT_SID, AUTH_TOKEN)\n",
    "    message = client.messages.create(\n",
    "        body=message,\n",
    "        from_=SENDER_WHATSAPP_NUMBER,\n",
    "        to=RECIPIENT_WHATSAPP_NUMBER\n",
    "    )\n",
    "    print(f\"WhatsApp message sent. SID: {message.sid}\")\n",
    "\n",
    "# Example usage\n",
    "task_finished = True  # Replace with your task completion condition\n",
    "if task_finished:\n",
    "    send_whatsapp_message(\"Task is finished!\")\n"
   ]
  }
 ],
 "metadata": {
  "kernelspec": {
   "display_name": "base",
   "language": "python",
   "name": "python3"
  },
  "language_info": {
   "codemirror_mode": {
    "name": "ipython",
    "version": 3
   },
   "file_extension": ".py",
   "mimetype": "text/x-python",
   "name": "python",
   "nbconvert_exporter": "python",
   "pygments_lexer": "ipython3",
   "version": "3.9.12"
  },
  "orig_nbformat": 4
 },
 "nbformat": 4,
 "nbformat_minor": 2
}
