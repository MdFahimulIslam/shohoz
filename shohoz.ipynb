{
 "cells": [
  {
   "cell_type": "code",
   "execution_count": 28,
   "metadata": {},
   "outputs": [],
   "source": [
    "from selenium import webdriver # pip install selenium\n",
    "from selenium.webdriver.common.by import By\n",
    "from selenium.webdriver.common.keys import Keys\n",
    "from selenium.webdriver.support.ui import Select\n",
    "from selenium.webdriver.support.ui import WebDriverWait\n",
    "from selenium.webdriver.support import expected_conditions as EC\n",
    "import time as tm\n",
    "from datetime import date "
   ]
  },
  {
   "cell_type": "code",
   "execution_count": 29,
   "metadata": {},
   "outputs": [
    {
     "name": "stderr",
     "output_type": "stream",
     "text": [
      "[WDM] - Downloading: 100%|██████████| 6.30M/6.30M [00:10<00:00, 604kB/s]\n"
     ]
    }
   ],
   "source": [
    "# selenium 4\n",
    "from selenium.webdriver.chrome.service import Service as ChromeService\n",
    "from webdriver_manager.chrome import ChromeDriverManager # pip install webdriver-manager\n",
    "\n",
    "driver = webdriver.Chrome(service=ChromeService(ChromeDriverManager().install()))"
   ]
  },
  {
   "cell_type": "code",
   "execution_count": 30,
   "metadata": {},
   "outputs": [],
   "source": [
    "search_string = r\"https://www.shohoz.com/booking/bus/search?fromcity=Bogura&tocity=Dhaka&doj=02-Jul-2023&dor=\"\n",
    "driver.get(search_string)\n",
    "wait = WebDriverWait(driver, 10)"
   ]
  },
  {
   "cell_type": "code",
   "execution_count": 31,
   "metadata": {},
   "outputs": [
    {
     "name": "stdout",
     "output_type": "stream",
     "text": [
      "SR Clicked\n"
     ]
    }
   ],
   "source": [
    "xpath_string = \"\"\"//*[@id=\"16operatorfilter\"]/span[1]\"\"\" \n",
    "# xpath_string = r\"/html/body/div[7]/div[2]/div[5]/div/div[1]/div[2]/div/label[1]/span[1]\" # Full xpath. Uncomment if doesn't work\n",
    "element = wait.until(EC.presence_of_element_located((By.XPATH, xpath_string)))\n",
    "element.click()\n",
    "print(\"SR Clicked\")"
   ]
  },
  {
   "cell_type": "code",
   "execution_count": 32,
   "metadata": {},
   "outputs": [
    {
     "name": "stdout",
     "output_type": "stream",
     "text": [
      "AC clicked\n"
     ]
    }
   ],
   "source": [
    "xpath_string = \"\"\"//*[@id=\"1typesfilter\"]/span[1]\"\"\"\n",
    "# xpath_string = \"\"\"/html/body/div[7]/div[2]/div[5]/div/div[1]/div[3]/div/label[1]/span[1]\"\"\" # Full xpath. Uncomment if doesn't work\n",
    "element = wait.until(EC.presence_of_element_located((By.XPATH, xpath_string)))\n",
    "element.click()\n",
    "print(\"AC clicked\")"
   ]
  },
  {
   "cell_type": "code",
   "execution_count": 81,
   "metadata": {},
   "outputs": [
    {
     "name": "stdout",
     "output_type": "stream",
     "text": [
      "2'st row contains 0 tickets\n",
      "3'st row contains 0 tickets\n",
      "4'st row contains 0 tickets\n"
     ]
    }
   ],
   "source": [
    "elements = driver.find_elements(By.CSS_SELECTOR, \"[data-title='Seats Available']\")\n",
    "# Uncomment below if above generates too many values\n",
    "# elements = driver.find_elements(By.CSS_SELECTOR,\"td.tbl_col5[data-title='Seats Available']\")\n",
    "\n",
    "# Iterate through the elements and print their text content\n",
    "i = 0\n",
    "for element in elements:\n",
    "    try:\n",
    "        value = int(element.text.replace(\"\\n\", \"\").strip())\n",
    "        i += 1\n",
    "    except ValueError:\n",
    "        # Value is NOT integer\n",
    "        continue\n",
    "\n",
    "    print(f\"Row #{i} contains {value} tickets\")"
   ]
  }
 ],
 "metadata": {
  "kernelspec": {
   "display_name": "base",
   "language": "python",
   "name": "python3"
  },
  "language_info": {
   "codemirror_mode": {
    "name": "ipython",
    "version": 3
   },
   "file_extension": ".py",
   "mimetype": "text/x-python",
   "name": "python",
   "nbconvert_exporter": "python",
   "pygments_lexer": "ipython3",
   "version": "3.9.12"
  },
  "orig_nbformat": 4
 },
 "nbformat": 4,
 "nbformat_minor": 2
}
